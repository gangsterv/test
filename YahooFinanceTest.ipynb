{
 "cells": [
  {
   "cell_type": "code",
   "execution_count": 1,
   "metadata": {},
   "outputs": [],
   "source": [
    "import requests"
   ]
  },
  {
   "cell_type": "code",
   "execution_count": 2,
   "metadata": {},
   "outputs": [],
   "source": [
    "response = requests.get(\"https://yfapi.net/v6/finance/quote?symbols=AAPL\", headers={\"X-API-KEY\":\"ILGb50Jp4f2YAHp7YzLRcaHTHufvE9oZ24eN3xtg\"})"
   ]
  },
  {
   "cell_type": "code",
   "execution_count": 3,
   "metadata": {},
   "outputs": [
    {
     "data": {
      "text/plain": [
       "<Response [200]>"
      ]
     },
     "execution_count": 3,
     "metadata": {},
     "output_type": "execute_result"
    }
   ],
   "source": [
    "response"
   ]
  },
  {
   "cell_type": "code",
   "execution_count": 4,
   "metadata": {},
   "outputs": [
    {
     "data": {
      "text/plain": [
       "{'quoteResponse': {'result': [{'language': 'en-US',\n",
       "    'region': 'US',\n",
       "    'quoteType': 'EQUITY',\n",
       "    'typeDisp': 'Equity',\n",
       "    'quoteSourceName': 'Delayed Quote',\n",
       "    'triggerable': True,\n",
       "    'customPriceAlertConfidence': 'HIGH',\n",
       "    'currency': 'USD',\n",
       "    'postMarketChangePercent': -0.18741892,\n",
       "    'postMarketTime': 1647046798,\n",
       "    'postMarketPrice': 154.44,\n",
       "    'postMarketChange': -0.2899933,\n",
       "    'regularMarketChange': -3.7900085,\n",
       "    'regularMarketChangePercent': -2.3908708,\n",
       "    'regularMarketTime': 1647032403,\n",
       "    'regularMarketPrice': 154.73,\n",
       "    'regularMarketDayHigh': 159.2799,\n",
       "    'regularMarketDayRange': '154.5 - 159.2799',\n",
       "    'regularMarketDayLow': 154.5,\n",
       "    'regularMarketVolume': 96970102,\n",
       "    'regularMarketPreviousClose': 158.52,\n",
       "    'bid': 154.44,\n",
       "    'ask': 154.49,\n",
       "    'bidSize': 10,\n",
       "    'askSize': 29,\n",
       "    'fullExchangeName': 'NasdaqGS',\n",
       "    'financialCurrency': 'USD',\n",
       "    'regularMarketOpen': 158.93,\n",
       "    'averageDailyVolume3Month': 97575152,\n",
       "    'averageDailyVolume10Day': 93482210,\n",
       "    'fiftyTwoWeekLowChange': 35.869995,\n",
       "    'fiftyTwoWeekLowChangePercent': 0.30178356,\n",
       "    'fiftyTwoWeekRange': '118.86 - 182.94',\n",
       "    'fiftyTwoWeekHighChange': -28.210007,\n",
       "    'fiftyTwoWeekHighChangePercent': -0.1542036,\n",
       "    'fiftyTwoWeekLow': 118.86,\n",
       "    'fiftyTwoWeekHigh': 182.94,\n",
       "    'dividendDate': 1644451200,\n",
       "    'earningsTimestamp': 1643301000,\n",
       "    'earningsTimestampStart': 1651003200,\n",
       "    'earningsTimestampEnd': 1651521600,\n",
       "    'trailingAnnualDividendRate': 0.865,\n",
       "    'trailingPE': 25.724024,\n",
       "    'trailingAnnualDividendYield': 0.0054567247,\n",
       "    'epsTrailingTwelveMonths': 6.015,\n",
       "    'epsForward': 6.56,\n",
       "    'epsCurrentYear': 6.16,\n",
       "    'priceEpsCurrentYear': 25.118505,\n",
       "    'sharesOutstanding': 16319399936,\n",
       "    'bookValue': 4.402,\n",
       "    'fiftyDayAverage': 169.1304,\n",
       "    'fiftyDayAverageChange': -14.400406,\n",
       "    'fiftyDayAverageChangePercent': -0.085143805,\n",
       "    'twoHundredDayAverage': 153.4692,\n",
       "    'twoHundredDayAverageChange': 1.2608032,\n",
       "    'twoHundredDayAverageChangePercent': 0.008215351,\n",
       "    'marketCap': 2525100769280,\n",
       "    'forwardPE': 23.58689,\n",
       "    'priceToBook': 35.149933,\n",
       "    'sourceInterval': 15,\n",
       "    'exchangeDataDelayedBy': 0,\n",
       "    'pageViewGrowthWeekly': 0.011901655,\n",
       "    'averageAnalystRating': '1.8 - Buy',\n",
       "    'tradeable': False,\n",
       "    'firstTradeDateMilliseconds': 345479400000,\n",
       "    'priceHint': 2,\n",
       "    'exchange': 'NMS',\n",
       "    'shortName': 'Apple Inc.',\n",
       "    'longName': 'Apple Inc.',\n",
       "    'messageBoardId': 'finmb_24937',\n",
       "    'exchangeTimezoneName': 'America/New_York',\n",
       "    'exchangeTimezoneShortName': 'EST',\n",
       "    'gmtOffSetMilliseconds': -18000000,\n",
       "    'market': 'us_market',\n",
       "    'esgPopulated': False,\n",
       "    'marketState': 'CLOSED',\n",
       "    'displayName': 'Apple',\n",
       "    'symbol': 'AAPL'}],\n",
       "  'error': None}}"
      ]
     },
     "execution_count": 4,
     "metadata": {},
     "output_type": "execute_result"
    }
   ],
   "source": [
    "response.json()"
   ]
  },
  {
   "cell_type": "code",
   "execution_count": 5,
   "metadata": {},
   "outputs": [],
   "source": [
    "data = response.json()"
   ]
  },
  {
   "cell_type": "code",
   "execution_count": 7,
   "metadata": {},
   "outputs": [
    {
     "data": {
      "text/plain": [
       "['quoteResponse']"
      ]
     },
     "execution_count": 7,
     "metadata": {},
     "output_type": "execute_result"
    }
   ],
   "source": [
    "list(data.keys())"
   ]
  },
  {
   "cell_type": "code",
   "execution_count": 8,
   "metadata": {},
   "outputs": [
    {
     "data": {
      "text/plain": [
       "{'result': [{'language': 'en-US',\n",
       "   'region': 'US',\n",
       "   'quoteType': 'EQUITY',\n",
       "   'typeDisp': 'Equity',\n",
       "   'quoteSourceName': 'Delayed Quote',\n",
       "   'triggerable': True,\n",
       "   'customPriceAlertConfidence': 'HIGH',\n",
       "   'currency': 'USD',\n",
       "   'postMarketChangePercent': -0.18741892,\n",
       "   'postMarketTime': 1647046798,\n",
       "   'postMarketPrice': 154.44,\n",
       "   'postMarketChange': -0.2899933,\n",
       "   'regularMarketChange': -3.7900085,\n",
       "   'regularMarketChangePercent': -2.3908708,\n",
       "   'regularMarketTime': 1647032403,\n",
       "   'regularMarketPrice': 154.73,\n",
       "   'regularMarketDayHigh': 159.2799,\n",
       "   'regularMarketDayRange': '154.5 - 159.2799',\n",
       "   'regularMarketDayLow': 154.5,\n",
       "   'regularMarketVolume': 96970102,\n",
       "   'regularMarketPreviousClose': 158.52,\n",
       "   'bid': 154.44,\n",
       "   'ask': 154.49,\n",
       "   'bidSize': 10,\n",
       "   'askSize': 29,\n",
       "   'fullExchangeName': 'NasdaqGS',\n",
       "   'financialCurrency': 'USD',\n",
       "   'regularMarketOpen': 158.93,\n",
       "   'averageDailyVolume3Month': 97575152,\n",
       "   'averageDailyVolume10Day': 93482210,\n",
       "   'fiftyTwoWeekLowChange': 35.869995,\n",
       "   'fiftyTwoWeekLowChangePercent': 0.30178356,\n",
       "   'fiftyTwoWeekRange': '118.86 - 182.94',\n",
       "   'fiftyTwoWeekHighChange': -28.210007,\n",
       "   'fiftyTwoWeekHighChangePercent': -0.1542036,\n",
       "   'fiftyTwoWeekLow': 118.86,\n",
       "   'fiftyTwoWeekHigh': 182.94,\n",
       "   'dividendDate': 1644451200,\n",
       "   'earningsTimestamp': 1643301000,\n",
       "   'earningsTimestampStart': 1651003200,\n",
       "   'earningsTimestampEnd': 1651521600,\n",
       "   'trailingAnnualDividendRate': 0.865,\n",
       "   'trailingPE': 25.724024,\n",
       "   'trailingAnnualDividendYield': 0.0054567247,\n",
       "   'epsTrailingTwelveMonths': 6.015,\n",
       "   'epsForward': 6.56,\n",
       "   'epsCurrentYear': 6.16,\n",
       "   'priceEpsCurrentYear': 25.118505,\n",
       "   'sharesOutstanding': 16319399936,\n",
       "   'bookValue': 4.402,\n",
       "   'fiftyDayAverage': 169.1304,\n",
       "   'fiftyDayAverageChange': -14.400406,\n",
       "   'fiftyDayAverageChangePercent': -0.085143805,\n",
       "   'twoHundredDayAverage': 153.4692,\n",
       "   'twoHundredDayAverageChange': 1.2608032,\n",
       "   'twoHundredDayAverageChangePercent': 0.008215351,\n",
       "   'marketCap': 2525100769280,\n",
       "   'forwardPE': 23.58689,\n",
       "   'priceToBook': 35.149933,\n",
       "   'sourceInterval': 15,\n",
       "   'exchangeDataDelayedBy': 0,\n",
       "   'pageViewGrowthWeekly': 0.011901655,\n",
       "   'averageAnalystRating': '1.8 - Buy',\n",
       "   'tradeable': False,\n",
       "   'firstTradeDateMilliseconds': 345479400000,\n",
       "   'priceHint': 2,\n",
       "   'exchange': 'NMS',\n",
       "   'shortName': 'Apple Inc.',\n",
       "   'longName': 'Apple Inc.',\n",
       "   'messageBoardId': 'finmb_24937',\n",
       "   'exchangeTimezoneName': 'America/New_York',\n",
       "   'exchangeTimezoneShortName': 'EST',\n",
       "   'gmtOffSetMilliseconds': -18000000,\n",
       "   'market': 'us_market',\n",
       "   'esgPopulated': False,\n",
       "   'marketState': 'CLOSED',\n",
       "   'displayName': 'Apple',\n",
       "   'symbol': 'AAPL'}],\n",
       " 'error': None}"
      ]
     },
     "execution_count": 8,
     "metadata": {},
     "output_type": "execute_result"
    }
   ],
   "source": [
    "data['quoteResponse']"
   ]
  },
  {
   "cell_type": "code",
   "execution_count": 9,
   "metadata": {},
   "outputs": [
    {
     "data": {
      "text/plain": [
       "dict_keys(['result', 'error'])"
      ]
     },
     "execution_count": 9,
     "metadata": {},
     "output_type": "execute_result"
    }
   ],
   "source": [
    "data['quoteResponse'].keys()"
   ]
  },
  {
   "cell_type": "code",
   "execution_count": 11,
   "metadata": {},
   "outputs": [
    {
     "data": {
      "text/plain": [
       "[{'language': 'en-US',\n",
       "  'region': 'US',\n",
       "  'quoteType': 'EQUITY',\n",
       "  'typeDisp': 'Equity',\n",
       "  'quoteSourceName': 'Delayed Quote',\n",
       "  'triggerable': True,\n",
       "  'customPriceAlertConfidence': 'HIGH',\n",
       "  'currency': 'USD',\n",
       "  'postMarketChangePercent': -0.18741892,\n",
       "  'postMarketTime': 1647046798,\n",
       "  'postMarketPrice': 154.44,\n",
       "  'postMarketChange': -0.2899933,\n",
       "  'regularMarketChange': -3.7900085,\n",
       "  'regularMarketChangePercent': -2.3908708,\n",
       "  'regularMarketTime': 1647032403,\n",
       "  'regularMarketPrice': 154.73,\n",
       "  'regularMarketDayHigh': 159.2799,\n",
       "  'regularMarketDayRange': '154.5 - 159.2799',\n",
       "  'regularMarketDayLow': 154.5,\n",
       "  'regularMarketVolume': 96970102,\n",
       "  'regularMarketPreviousClose': 158.52,\n",
       "  'bid': 154.44,\n",
       "  'ask': 154.49,\n",
       "  'bidSize': 10,\n",
       "  'askSize': 29,\n",
       "  'fullExchangeName': 'NasdaqGS',\n",
       "  'financialCurrency': 'USD',\n",
       "  'regularMarketOpen': 158.93,\n",
       "  'averageDailyVolume3Month': 97575152,\n",
       "  'averageDailyVolume10Day': 93482210,\n",
       "  'fiftyTwoWeekLowChange': 35.869995,\n",
       "  'fiftyTwoWeekLowChangePercent': 0.30178356,\n",
       "  'fiftyTwoWeekRange': '118.86 - 182.94',\n",
       "  'fiftyTwoWeekHighChange': -28.210007,\n",
       "  'fiftyTwoWeekHighChangePercent': -0.1542036,\n",
       "  'fiftyTwoWeekLow': 118.86,\n",
       "  'fiftyTwoWeekHigh': 182.94,\n",
       "  'dividendDate': 1644451200,\n",
       "  'earningsTimestamp': 1643301000,\n",
       "  'earningsTimestampStart': 1651003200,\n",
       "  'earningsTimestampEnd': 1651521600,\n",
       "  'trailingAnnualDividendRate': 0.865,\n",
       "  'trailingPE': 25.724024,\n",
       "  'trailingAnnualDividendYield': 0.0054567247,\n",
       "  'epsTrailingTwelveMonths': 6.015,\n",
       "  'epsForward': 6.56,\n",
       "  'epsCurrentYear': 6.16,\n",
       "  'priceEpsCurrentYear': 25.118505,\n",
       "  'sharesOutstanding': 16319399936,\n",
       "  'bookValue': 4.402,\n",
       "  'fiftyDayAverage': 169.1304,\n",
       "  'fiftyDayAverageChange': -14.400406,\n",
       "  'fiftyDayAverageChangePercent': -0.085143805,\n",
       "  'twoHundredDayAverage': 153.4692,\n",
       "  'twoHundredDayAverageChange': 1.2608032,\n",
       "  'twoHundredDayAverageChangePercent': 0.008215351,\n",
       "  'marketCap': 2525100769280,\n",
       "  'forwardPE': 23.58689,\n",
       "  'priceToBook': 35.149933,\n",
       "  'sourceInterval': 15,\n",
       "  'exchangeDataDelayedBy': 0,\n",
       "  'pageViewGrowthWeekly': 0.011901655,\n",
       "  'averageAnalystRating': '1.8 - Buy',\n",
       "  'tradeable': False,\n",
       "  'firstTradeDateMilliseconds': 345479400000,\n",
       "  'priceHint': 2,\n",
       "  'exchange': 'NMS',\n",
       "  'shortName': 'Apple Inc.',\n",
       "  'longName': 'Apple Inc.',\n",
       "  'messageBoardId': 'finmb_24937',\n",
       "  'exchangeTimezoneName': 'America/New_York',\n",
       "  'exchangeTimezoneShortName': 'EST',\n",
       "  'gmtOffSetMilliseconds': -18000000,\n",
       "  'market': 'us_market',\n",
       "  'esgPopulated': False,\n",
       "  'marketState': 'CLOSED',\n",
       "  'displayName': 'Apple',\n",
       "  'symbol': 'AAPL'}]"
      ]
     },
     "execution_count": 11,
     "metadata": {},
     "output_type": "execute_result"
    }
   ],
   "source": [
    "result = data['quoteResponse']['result']\n",
    "result"
   ]
  },
  {
   "cell_type": "code",
   "execution_count": 13,
   "metadata": {},
   "outputs": [
    {
     "name": "stdout",
     "output_type": "stream",
     "text": [
      "<class 'list'>\n",
      "1\n"
     ]
    }
   ],
   "source": [
    "print(type(result))\n",
    "print(len(result))"
   ]
  },
  {
   "cell_type": "code",
   "execution_count": 14,
   "metadata": {},
   "outputs": [
    {
     "data": {
      "text/plain": [
       "{'language': 'en-US',\n",
       " 'region': 'US',\n",
       " 'quoteType': 'EQUITY',\n",
       " 'typeDisp': 'Equity',\n",
       " 'quoteSourceName': 'Delayed Quote',\n",
       " 'triggerable': True,\n",
       " 'customPriceAlertConfidence': 'HIGH',\n",
       " 'currency': 'USD',\n",
       " 'postMarketChangePercent': -0.18741892,\n",
       " 'postMarketTime': 1647046798,\n",
       " 'postMarketPrice': 154.44,\n",
       " 'postMarketChange': -0.2899933,\n",
       " 'regularMarketChange': -3.7900085,\n",
       " 'regularMarketChangePercent': -2.3908708,\n",
       " 'regularMarketTime': 1647032403,\n",
       " 'regularMarketPrice': 154.73,\n",
       " 'regularMarketDayHigh': 159.2799,\n",
       " 'regularMarketDayRange': '154.5 - 159.2799',\n",
       " 'regularMarketDayLow': 154.5,\n",
       " 'regularMarketVolume': 96970102,\n",
       " 'regularMarketPreviousClose': 158.52,\n",
       " 'bid': 154.44,\n",
       " 'ask': 154.49,\n",
       " 'bidSize': 10,\n",
       " 'askSize': 29,\n",
       " 'fullExchangeName': 'NasdaqGS',\n",
       " 'financialCurrency': 'USD',\n",
       " 'regularMarketOpen': 158.93,\n",
       " 'averageDailyVolume3Month': 97575152,\n",
       " 'averageDailyVolume10Day': 93482210,\n",
       " 'fiftyTwoWeekLowChange': 35.869995,\n",
       " 'fiftyTwoWeekLowChangePercent': 0.30178356,\n",
       " 'fiftyTwoWeekRange': '118.86 - 182.94',\n",
       " 'fiftyTwoWeekHighChange': -28.210007,\n",
       " 'fiftyTwoWeekHighChangePercent': -0.1542036,\n",
       " 'fiftyTwoWeekLow': 118.86,\n",
       " 'fiftyTwoWeekHigh': 182.94,\n",
       " 'dividendDate': 1644451200,\n",
       " 'earningsTimestamp': 1643301000,\n",
       " 'earningsTimestampStart': 1651003200,\n",
       " 'earningsTimestampEnd': 1651521600,\n",
       " 'trailingAnnualDividendRate': 0.865,\n",
       " 'trailingPE': 25.724024,\n",
       " 'trailingAnnualDividendYield': 0.0054567247,\n",
       " 'epsTrailingTwelveMonths': 6.015,\n",
       " 'epsForward': 6.56,\n",
       " 'epsCurrentYear': 6.16,\n",
       " 'priceEpsCurrentYear': 25.118505,\n",
       " 'sharesOutstanding': 16319399936,\n",
       " 'bookValue': 4.402,\n",
       " 'fiftyDayAverage': 169.1304,\n",
       " 'fiftyDayAverageChange': -14.400406,\n",
       " 'fiftyDayAverageChangePercent': -0.085143805,\n",
       " 'twoHundredDayAverage': 153.4692,\n",
       " 'twoHundredDayAverageChange': 1.2608032,\n",
       " 'twoHundredDayAverageChangePercent': 0.008215351,\n",
       " 'marketCap': 2525100769280,\n",
       " 'forwardPE': 23.58689,\n",
       " 'priceToBook': 35.149933,\n",
       " 'sourceInterval': 15,\n",
       " 'exchangeDataDelayedBy': 0,\n",
       " 'pageViewGrowthWeekly': 0.011901655,\n",
       " 'averageAnalystRating': '1.8 - Buy',\n",
       " 'tradeable': False,\n",
       " 'firstTradeDateMilliseconds': 345479400000,\n",
       " 'priceHint': 2,\n",
       " 'exchange': 'NMS',\n",
       " 'shortName': 'Apple Inc.',\n",
       " 'longName': 'Apple Inc.',\n",
       " 'messageBoardId': 'finmb_24937',\n",
       " 'exchangeTimezoneName': 'America/New_York',\n",
       " 'exchangeTimezoneShortName': 'EST',\n",
       " 'gmtOffSetMilliseconds': -18000000,\n",
       " 'market': 'us_market',\n",
       " 'esgPopulated': False,\n",
       " 'marketState': 'CLOSED',\n",
       " 'displayName': 'Apple',\n",
       " 'symbol': 'AAPL'}"
      ]
     },
     "execution_count": 14,
     "metadata": {},
     "output_type": "execute_result"
    }
   ],
   "source": [
    "appl = result[0]\n",
    "appl"
   ]
  },
  {
   "cell_type": "code",
   "execution_count": 15,
   "metadata": {},
   "outputs": [
    {
     "data": {
      "text/plain": [
       "154.73"
      ]
     },
     "execution_count": 15,
     "metadata": {},
     "output_type": "execute_result"
    }
   ],
   "source": [
    "price = appl['regularMarketPrice']\n",
    "price"
   ]
  },
  {
   "cell_type": "code",
   "execution_count": null,
   "metadata": {},
   "outputs": [],
   "source": []
  },
  {
   "cell_type": "code",
   "execution_count": null,
   "metadata": {},
   "outputs": [],
   "source": []
  },
  {
   "cell_type": "code",
   "execution_count": 16,
   "metadata": {},
   "outputs": [],
   "source": [
    "response = requests.get(\"https://jsonplaceholder.typicode.com/users\")"
   ]
  },
  {
   "cell_type": "code",
   "execution_count": 17,
   "metadata": {},
   "outputs": [],
   "source": [
    "data = response.json()"
   ]
  },
  {
   "cell_type": "code",
   "execution_count": 19,
   "metadata": {},
   "outputs": [
    {
     "name": "stdout",
     "output_type": "stream",
     "text": [
      "Leanne Graham, Bret, Sincere@april.biz\n",
      "Ervin Howell, Antonette, Shanna@melissa.tv\n",
      "Clementine Bauch, Samantha, Nathan@yesenia.net\n",
      "Patricia Lebsack, Karianne, Julianne.OConner@kory.org\n",
      "Chelsey Dietrich, Kamren, Lucio_Hettinger@annie.ca\n",
      "Mrs. Dennis Schulist, Leopoldo_Corkery, Karley_Dach@jasper.info\n",
      "Kurtis Weissnat, Elwyn.Skiles, Telly.Hoeger@billy.biz\n",
      "Nicholas Runolfsdottir V, Maxime_Nienow, Sherwood@rosamond.me\n",
      "Glenna Reichert, Delphine, Chaim_McDermott@dana.io\n",
      "Clementina DuBuque, Moriah.Stanton, Rey.Padberg@karina.biz\n"
     ]
    }
   ],
   "source": [
    "for user in data:\n",
    "    name = user['name']\n",
    "    username = user['username']\n",
    "    email = user['email']\n",
    "    print(f\"{name}, {username}, {email}\")"
   ]
  },
  {
   "cell_type": "code",
   "execution_count": null,
   "metadata": {},
   "outputs": [],
   "source": []
  }
 ],
 "metadata": {
  "interpreter": {
   "hash": "59d4063c40f63f38c04e66719f4ca86d6a41c5afa46588e01a2487fc14d7b7d4"
  },
  "kernelspec": {
   "display_name": "Python 3.8.5 ('base')",
   "language": "python",
   "name": "python3"
  },
  "language_info": {
   "codemirror_mode": {
    "name": "ipython",
    "version": 3
   },
   "file_extension": ".py",
   "mimetype": "text/x-python",
   "name": "python",
   "nbconvert_exporter": "python",
   "pygments_lexer": "ipython3",
   "version": "3.8.5"
  },
  "orig_nbformat": 4
 },
 "nbformat": 4,
 "nbformat_minor": 2
}
