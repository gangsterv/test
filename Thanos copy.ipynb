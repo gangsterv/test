{
 "cells": [
  {
   "cell_type": "markdown",
   "metadata": {},
   "source": [
    "<img src=\"thanos.jpg\">"
   ]
  },
  {
   "cell_type": "markdown",
   "metadata": {},
   "source": [
    "# Thanos Project\n",
    "\n",
    "#### Thanos will snap his fingers and kill half the population of the universe"
   ]
  },
  {
   "cell_type": "code",
   "execution_count": 1,
   "metadata": {},
   "outputs": [],
   "source": [
    "# Importing the used libraries\n",
    "import random\n",
    "import os\n",
    "import time"
   ]
  },
  {
   "cell_type": "markdown",
   "metadata": {},
   "source": [
    "## Split the code into tasks\n",
    "\n",
    "- Read the files inside universe\n",
    "- Calculate 50% of the universe\n",
    "- Choose 50% of the universe randomly and then remove them\n",
    "- Show the files inside universe again"
   ]
  },
  {
   "cell_type": "code",
   "execution_count": 2,
   "metadata": {},
   "outputs": [
    {
     "data": {
      "text/plain": [
       "['cover001.png',\n",
       " 'cover002.png',\n",
       " 'cover003.png',\n",
       " 'cover004.png',\n",
       " 'cover005.png',\n",
       " 'cover006.png',\n",
       " 'cover007.png',\n",
       " 'cover008.png',\n",
       " 'cover009.png',\n",
       " 'cover010.png',\n",
       " 'cover011.png',\n",
       " 'cover012.png',\n",
       " 'cover013.png',\n",
       " 'cover014.png',\n",
       " 'cover015.png',\n",
       " 'cover016.png',\n",
       " 'cover017.png',\n",
       " 'cover018.png',\n",
       " 'cover019.png',\n",
       " 'cover020.png',\n",
       " 'cover021.png',\n",
       " 'cover022.png',\n",
       " 'cover023.png',\n",
       " 'cover024.png',\n",
       " 'cover025.png',\n",
       " 'cover026.png',\n",
       " 'cover027.png',\n",
       " 'cover028.png',\n",
       " 'cover029.png',\n",
       " 'cover030.png',\n",
       " 'cover031.png',\n",
       " 'cover032.png',\n",
       " 'cover033.png',\n",
       " 'cover034.png',\n",
       " 'cover035.png',\n",
       " 'cover036.png',\n",
       " 'cover037.png',\n",
       " 'cover038.png',\n",
       " 'cover039.png',\n",
       " 'cover040.png',\n",
       " 'cover041.png',\n",
       " 'cover042.png',\n",
       " 'cover043.png',\n",
       " 'cover044.png',\n",
       " 'cover045.png',\n",
       " 'cover046.png',\n",
       " 'cover047.png',\n",
       " 'cover048.png',\n",
       " 'cover049.png',\n",
       " 'cover050.png']"
      ]
     },
     "execution_count": 2,
     "metadata": {},
     "output_type": "execute_result"
    }
   ],
   "source": [
    "# Read the files inside universe\n",
    "os.listdir('universe')"
   ]
  },
  {
   "cell_type": "code",
   "execution_count": 3,
   "metadata": {},
   "outputs": [],
   "source": [
    "def get_universe_people(place):\n",
    "    people = os.listdir(place)\n",
    "    return people"
   ]
  },
  {
   "cell_type": "code",
   "execution_count": 4,
   "metadata": {},
   "outputs": [
    {
     "data": {
      "text/plain": [
       "['cover001.png',\n",
       " 'cover002.png',\n",
       " 'cover003.png',\n",
       " 'cover004.png',\n",
       " 'cover005.png',\n",
       " 'cover006.png',\n",
       " 'cover007.png',\n",
       " 'cover008.png',\n",
       " 'cover009.png',\n",
       " 'cover010.png',\n",
       " 'cover011.png',\n",
       " 'cover012.png',\n",
       " 'cover013.png',\n",
       " 'cover014.png',\n",
       " 'cover015.png',\n",
       " 'cover016.png',\n",
       " 'cover017.png',\n",
       " 'cover018.png',\n",
       " 'cover019.png',\n",
       " 'cover020.png',\n",
       " 'cover021.png',\n",
       " 'cover022.png',\n",
       " 'cover023.png',\n",
       " 'cover024.png',\n",
       " 'cover025.png',\n",
       " 'cover026.png',\n",
       " 'cover027.png',\n",
       " 'cover028.png',\n",
       " 'cover029.png',\n",
       " 'cover030.png',\n",
       " 'cover031.png',\n",
       " 'cover032.png',\n",
       " 'cover033.png',\n",
       " 'cover034.png',\n",
       " 'cover035.png',\n",
       " 'cover036.png',\n",
       " 'cover037.png',\n",
       " 'cover038.png',\n",
       " 'cover039.png',\n",
       " 'cover040.png',\n",
       " 'cover041.png',\n",
       " 'cover042.png',\n",
       " 'cover043.png',\n",
       " 'cover044.png',\n",
       " 'cover045.png',\n",
       " 'cover046.png',\n",
       " 'cover047.png',\n",
       " 'cover048.png',\n",
       " 'cover049.png',\n",
       " 'cover050.png']"
      ]
     },
     "execution_count": 4,
     "metadata": {},
     "output_type": "execute_result"
    }
   ],
   "source": [
    "# See how our universe looks\n",
    "universe = get_universe_people('universe')\n",
    "universe"
   ]
  },
  {
   "cell_type": "code",
   "execution_count": 5,
   "metadata": {},
   "outputs": [
    {
     "data": {
      "text/plain": [
       "50"
      ]
     },
     "execution_count": 5,
     "metadata": {},
     "output_type": "execute_result"
    }
   ],
   "source": [
    "len(universe)"
   ]
  },
  {
   "cell_type": "code",
   "execution_count": 6,
   "metadata": {},
   "outputs": [
    {
     "data": {
      "text/plain": [
       "25.0"
      ]
     },
     "execution_count": 6,
     "metadata": {},
     "output_type": "execute_result"
    }
   ],
   "source": [
    "# Get 50% of the universe\n",
    "len(universe) / 2"
   ]
  },
  {
   "cell_type": "code",
   "execution_count": 7,
   "metadata": {},
   "outputs": [
    {
     "data": {
      "text/plain": [
       "25"
      ]
     },
     "execution_count": 7,
     "metadata": {},
     "output_type": "execute_result"
    }
   ],
   "source": [
    "len(universe) // 2"
   ]
  },
  {
   "cell_type": "code",
   "execution_count": 16,
   "metadata": {},
   "outputs": [
    {
     "data": {
      "text/plain": [
       "'e'"
      ]
     },
     "execution_count": 16,
     "metadata": {},
     "output_type": "execute_result"
    }
   ],
   "source": [
    "random.choice(\"abcde\")"
   ]
  },
  {
   "cell_type": "code",
   "execution_count": 17,
   "metadata": {},
   "outputs": [
    {
     "data": {
      "text/plain": [
       "'cover001.png'"
      ]
     },
     "execution_count": 17,
     "metadata": {},
     "output_type": "execute_result"
    }
   ],
   "source": [
    "random.choice(universe)"
   ]
  },
  {
   "cell_type": "markdown",
   "metadata": {},
   "source": [
    "### Start Destroying the universe"
   ]
  },
  {
   "cell_type": "code",
   "execution_count": 18,
   "metadata": {},
   "outputs": [],
   "source": [
    "def thanos_snap(universe):\n",
    "    half_universe = len(universe) // 2\n",
    "    for i in range(half_universe):\n",
    "        random_victim = random.choice(universe)\n",
    "        # Remove the file from universe folder\n",
    "        os.remove('universe/'+random_victim) # universe/cover001.png\n",
    "        universe.remove(random_victim)\n",
    "        print(f\"Destroying: {random_victim}\")\n",
    "        time.sleep(0.5)\n",
    "    print(\"Perfectly balanced, as all things should be\")"
   ]
  },
  {
   "cell_type": "code",
   "execution_count": 19,
   "metadata": {},
   "outputs": [
    {
     "name": "stdout",
     "output_type": "stream",
     "text": [
      "Destroying: cover036.png\n",
      "Destroying: cover031.png\n",
      "Destroying: cover018.png\n",
      "Destroying: cover043.png\n",
      "Destroying: cover010.png\n",
      "Destroying: cover047.png\n",
      "Destroying: cover020.png\n",
      "Destroying: cover019.png\n",
      "Destroying: cover014.png\n",
      "Destroying: cover004.png\n",
      "Destroying: cover016.png\n",
      "Destroying: cover040.png\n",
      "Destroying: cover037.png\n",
      "Destroying: cover021.png\n",
      "Destroying: cover038.png\n",
      "Destroying: cover007.png\n",
      "Destroying: cover049.png\n",
      "Destroying: cover003.png\n",
      "Destroying: cover030.png\n",
      "Destroying: cover034.png\n",
      "Destroying: cover017.png\n",
      "Destroying: cover005.png\n",
      "Destroying: cover027.png\n",
      "Destroying: cover006.png\n",
      "Destroying: cover012.png\n",
      "Perfectly balanced, as all things should be\n"
     ]
    }
   ],
   "source": [
    "thanos_snap(universe)"
   ]
  },
  {
   "cell_type": "code",
   "execution_count": 20,
   "metadata": {},
   "outputs": [],
   "source": [
    "new_universe = get_universe_people('universe')"
   ]
  },
  {
   "cell_type": "code",
   "execution_count": 21,
   "metadata": {},
   "outputs": [
    {
     "data": {
      "text/plain": [
       "['cover001.png',\n",
       " 'cover002.png',\n",
       " 'cover008.png',\n",
       " 'cover009.png',\n",
       " 'cover011.png',\n",
       " 'cover013.png',\n",
       " 'cover015.png',\n",
       " 'cover022.png',\n",
       " 'cover023.png',\n",
       " 'cover024.png',\n",
       " 'cover025.png',\n",
       " 'cover026.png',\n",
       " 'cover028.png',\n",
       " 'cover029.png',\n",
       " 'cover032.png',\n",
       " 'cover033.png',\n",
       " 'cover035.png',\n",
       " 'cover039.png',\n",
       " 'cover041.png',\n",
       " 'cover042.png',\n",
       " 'cover044.png',\n",
       " 'cover045.png',\n",
       " 'cover046.png',\n",
       " 'cover048.png',\n",
       " 'cover050.png']"
      ]
     },
     "execution_count": 21,
     "metadata": {},
     "output_type": "execute_result"
    }
   ],
   "source": [
    "new_universe"
   ]
  },
  {
   "cell_type": "code",
   "execution_count": 22,
   "metadata": {},
   "outputs": [
    {
     "data": {
      "text/plain": [
       "25"
      ]
     },
     "execution_count": 22,
     "metadata": {},
     "output_type": "execute_result"
    }
   ],
   "source": [
    "len(new_universe)"
   ]
  },
  {
   "cell_type": "markdown",
   "metadata": {},
   "source": [
    "# Great Work!"
   ]
  }
 ],
 "metadata": {
  "kernelspec": {
   "display_name": "Python 3",
   "language": "python",
   "name": "python3"
  },
  "language_info": {
   "codemirror_mode": {
    "name": "ipython",
    "version": 3
   },
   "file_extension": ".py",
   "mimetype": "text/x-python",
   "name": "python",
   "nbconvert_exporter": "python",
   "pygments_lexer": "ipython3",
   "version": "3.9.6"
  }
 },
 "nbformat": 4,
 "nbformat_minor": 2
}
